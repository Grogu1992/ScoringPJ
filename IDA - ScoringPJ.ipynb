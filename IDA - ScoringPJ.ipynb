{
 "cells": [
  {
   "cell_type": "markdown",
   "metadata": {},
   "source": [
    "# Initial Data Analisys (IDA) - Scoring PJ\n",
    "\n",
    "## Estructura de la Meta Data:\n",
    "\n",
    "\n",
    "\n",
    "\n",
    "\n",
    "## Diagrama de flujo:\n",
    "\n",
    "\n",
    "## Procesamiento y limpieza de Datos:\n",
    "\n",
    "## Proceso de Selección de Datos:\n",
    "\n",
    "## Interpretación de Resultados:\n",
    "\n",
    "## Ideas para el análisis estadístico:"
   ]
  }
 ],
 "metadata": {
  "kernelspec": {
   "display_name": "Python 3",
   "language": "python",
   "name": "python3"
  },
  "language_info": {
   "codemirror_mode": {
    "name": "ipython",
    "version": 3
   },
   "file_extension": ".py",
   "mimetype": "text/x-python",
   "name": "python",
   "nbconvert_exporter": "python",
   "pygments_lexer": "ipython3",
   "version": "3.8.5"
  }
 },
 "nbformat": 4,
 "nbformat_minor": 4
}
